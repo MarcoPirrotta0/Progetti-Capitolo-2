{
 "cells": [
  {
   "cell_type": "code",
   "execution_count": null,
   "id": "71807d80",
   "metadata": {},
   "outputs": [
    {
     "name": "stdout",
     "output_type": "stream",
     "text": [
      "50\n"
     ]
    }
   ],
   "source": [
    "# 1) Scrivere un'espressione che calcola il valore del prodotto tra due numeri interi.\n",
    "\n",
    "x = 10\n",
    "y = 5\n",
    "\n",
    "z = x * y\n",
    "print(z)\n",
    "\n",
    "# (è un espressione?)\n"
   ]
  },
  {
   "cell_type": "code",
   "execution_count": 5,
   "id": "731d0eec",
   "metadata": {},
   "outputs": [
    {
     "name": "stdout",
     "output_type": "stream",
     "text": [
      "8\n"
     ]
    }
   ],
   "source": [
    "# 2) Scrivere un'espressione che calcola il valore dell'operazione di esponenziazione tra due numeri interi a e b.\n",
    "\n",
    "a = 2\n",
    "b = 3\n",
    "\n",
    "z = a**3\n",
    "print(z)"
   ]
  },
  {
   "cell_type": "code",
   "execution_count": 6,
   "id": "127de751",
   "metadata": {},
   "outputs": [
    {
     "name": "stdout",
     "output_type": "stream",
     "text": [
      "MarcoPirrotta\n"
     ]
    }
   ],
   "source": [
    "# 3) Scrivere un'espressione che concatena due stringhe s1 e s2.\n",
    "\n",
    "s1 = \"Marco\"\n",
    "s2 = \"Pirrotta\"\n",
    "\n",
    "s3 = s1 + s2\n",
    "print(s3)"
   ]
  },
  {
   "cell_type": "code",
   "execution_count": 19,
   "id": "a2099307",
   "metadata": {},
   "outputs": [
    {
     "name": "stdout",
     "output_type": "stream",
     "text": [
      "10 è pari.\n"
     ]
    }
   ],
   "source": [
    "# 4) Scrivere un'espressione che verifica se un numero intero x è pari o dispari.\n",
    "\n",
    "x = 10\n",
    "\n",
    "\n",
    "#if x % 2 == 0:\n",
    "#    print(x, \"è pari\")\n",
    "#else:\n",
    "#    print(x, \"è dispari\")\n",
    "\n",
    "\n",
    "# errato\n",
    "\n",
    "print (x , \"è pari.\") if x % 2 == 0 else print (x, \"è dispari.\")"
   ]
  },
  {
   "cell_type": "code",
   "execution_count": 22,
   "id": "c83b8214",
   "metadata": {},
   "outputs": [
    {
     "name": "stdout",
     "output_type": "stream",
     "text": [
      "78.5\n"
     ]
    }
   ],
   "source": [
    "# 5) Scrivere un'espressione che calcola il valore dell'area \n",
    "# di un cerchio di raggio r.\n",
    "\n",
    "# La formula è pi * r^2\n",
    "\n",
    "r = 5\n",
    "PI = 3.14\n",
    "\n",
    "area = PI * r ** 2\n",
    "print(area)"
   ]
  },
  {
   "cell_type": "code",
   "execution_count": 14,
   "id": "58688596",
   "metadata": {},
   "outputs": [
    {
     "name": "stdout",
     "output_type": "stream",
     "text": [
      "13\n"
     ]
    }
   ],
   "source": [
    "# 6) Scrivere un'espressione che calcola la somma dei quadrati di due numeri interi a e b.\n",
    "\n",
    "a = 3\n",
    "b = 2\n",
    "\n",
    "c = a **2 + b **2\n",
    "print (c)"
   ]
  },
  {
   "cell_type": "code",
   "execution_count": 16,
   "id": "aa38bc30",
   "metadata": {},
   "outputs": [
    {
     "name": "stdout",
     "output_type": "stream",
     "text": [
      "La media è: 8.166666666666666\n"
     ]
    }
   ],
   "source": [
    "# 7) Scrivere un'espressione che calcola il \n",
    "# valore della media aritmetica di una lista di numeri n.\n",
    "\n",
    "x = [6, 7, 8, 9, 9, 10] # array di voti\n",
    "media = sum(x) / len(x) # media = somma dei voti diviso numero dei voti\n",
    "print(\"La media è:\", media)"
   ]
  },
  {
   "cell_type": "code",
   "execution_count": null,
   "id": "ea599112",
   "metadata": {},
   "outputs": [],
   "source": [
    "# 8) Scrivere un'espressione che restituisce il valore massimo di una lista di numeri.\n",
    "\n",
    "Voti = [6, 7, 8, 9, 9, 10] # array di voti\n",
    "media = sum(Voti) / len(Voti) # media = somma dei voti diviso numero dei voti\n",
    "print(\"La media è:\", media)"
   ]
  },
  {
   "cell_type": "code",
   "execution_count": null,
   "id": "167ea775",
   "metadata": {},
   "outputs": [],
   "source": [
    "# 9) Scrivere un identificatore valido e uno non valido.\n",
    "\n",
    "#Definition and Usage\n",
    "#The isidentifier() method returns True if the string is a valid identifier, otherwise False.\n",
    "#A string is considered a valid identifier if it only contains alphanumeric letters (a-z) and (0-9), or underscores (_). \n",
    "# A valid identifier cannot start with a number, or contain any spaces.\n",
    "\n",
    "#nome = \"Marco\" #ID valido\n",
    "#2numbers = [1,2] #ID invalido, inizia con numero 2, che non si puo fare"
   ]
  },
  {
   "cell_type": "code",
   "execution_count": null,
   "id": "eb339a70",
   "metadata": {},
   "outputs": [
    {
     "name": "stdout",
     "output_type": "stream",
     "text": [
      "10\n",
      "10\n"
     ]
    }
   ],
   "source": [
    "# 10) Qual è la convenzione di naming per le variabili e per le costanti in Python?\n",
    "\n",
    "# Tutto in lettere maiuscole, es\n",
    "VARIABILE = 10"
   ]
  },
  {
   "cell_type": "code",
   "execution_count": 29,
   "id": "f5d8f126",
   "metadata": {},
   "outputs": [],
   "source": [
    "# 11) Qual è l'identificatore riservato in Python per indicare una funzione lambda?\n",
    "\n",
    "# lambda"
   ]
  },
  {
   "cell_type": "code",
   "execution_count": 31,
   "id": "7dcedea0",
   "metadata": {},
   "outputs": [
    {
     "name": "stdout",
     "output_type": "stream",
     "text": [
      "Il quadrato di 5 è 25\n"
     ]
    }
   ],
   "source": [
    "# 12) Scrivere un programma che richiede all'utente d’inserire un numero intero e stampa \n",
    "# il suo quadrato. In caso d’inserimento di un valore non valido, il programma deve gestire \n",
    "# l'eccezione e stampare un messaggio di errore.\n",
    "\n",
    "try:\n",
    "    x = int(input(\"Inserisci un numero intero: \"))\n",
    "    quadrato = x ** 2\n",
    "    print(f\"Il quadrato di {x} è {quadrato}\")\n",
    "except ValueError:\n",
    "    print(\"Errore: devi inserire un numero intero valido!\")\n",
    "\n"
   ]
  },
  {
   "cell_type": "code",
   "execution_count": 57,
   "id": "e59e6593",
   "metadata": {},
   "outputs": [
    {
     "name": "stdout",
     "output_type": "stream",
     "text": [
      "Riga 1\n",
      "Riga 2\n",
      "Riga 3\n",
      "Riga 4\n",
      "Riga 5\n",
      "\n"
     ]
    }
   ],
   "source": [
    "# 13) Scrivere un programma che apre un file di testo e stampa il \n",
    "# suo contenuto riga per riga. In caso di errore \n",
    "# nell'apertura del file, il programma deve gestire l'eccezione e stampare un messaggio di errore.\n",
    "\n",
    "try:\n",
    "    with open(\"demofile\", \"a\") as f:\n",
    "        f.write(\"Riga 1\\n\")\n",
    "        f.write(\"Riga 2\\n\")\n",
    "        f.write(\"Riga 3\\n\")\n",
    "        f.write(\"Riga 4\\n\")\n",
    "        f.write(\"Riga 5\\n\")\n",
    "\n",
    "    with open(\"demofile\", \"r\") as f:\n",
    "        print(f.read())\n",
    "except IOError:\n",
    "    print(\"Errore: impossibile aprire il file!\")\n"
   ]
  },
  {
   "cell_type": "code",
   "execution_count": 56,
   "id": "1dddb381",
   "metadata": {},
   "outputs": [
    {
     "name": "stdout",
     "output_type": "stream",
     "text": [
      "Errore: impossibile aprire il file!\n"
     ]
    }
   ],
   "source": [
    "# 13) Scrivere un programma che apre un file di testo e stampa il \n",
    "# suo contenuto riga per riga. In caso di errore \n",
    "# nell'apertura del file, il programma deve gestire l'eccezione e stampare un messaggio di errore.\n",
    "\n",
    "try:\n",
    "    with open(\"demofile_nonexistant\", \"a\") as f:\n",
    "        f.write(\"Riga 1\\n\")\n",
    "        f.write(\"Riga 2\\n\")\n",
    "        f.write(\"Riga 3\\n\")\n",
    "        f.write(\"Riga 4\\n\")\n",
    "        f.write(\"Riga 5\\n\")\n",
    "\n",
    "    with open(\"demofile\", \"r\") as f:\n",
    "        print(f.read())\n",
    "except IOError:\n",
    "    print(\"Errore: impossibile aprire il file!\")"
   ]
  },
  {
   "cell_type": "code",
   "execution_count": 58,
   "id": "c0093145",
   "metadata": {},
   "outputs": [],
   "source": [
    "# Clear past exercise\n",
    "\n",
    "with open(\"demofile\", \"w\"):\n",
    "    pass"
   ]
  },
  {
   "cell_type": "code",
   "execution_count": 4,
   "id": "d1aa7576",
   "metadata": {},
   "outputs": [
    {
     "name": "stdout",
     "output_type": "stream",
     "text": [
      "Errore: divisione per zero!\n"
     ]
    }
   ],
   "source": [
    "# 14) Scrivere una funzione che divide due numeri e gestisce l'eccezione di divisione per zero.\n",
    "\n",
    "\n",
    "\n",
    "def Divisione(x, y):\n",
    "    try:\n",
    "        z = x / y\n",
    "        return z\n",
    "    except ZeroDivisionError:\n",
    "        print(\"Errore: divisione per zero!\")\n",
    "        return None\n",
    "    \n",
    "\n",
    "Divisione(4, 0)"
   ]
  },
  {
   "cell_type": "code",
   "execution_count": 10,
   "id": "081542a3",
   "metadata": {},
   "outputs": [
    {
     "name": "stdout",
     "output_type": "stream",
     "text": [
      "Errore: devi inserire un numero intero valido!\n",
      "La lista è: []\n"
     ]
    }
   ],
   "source": [
    "# 15) Scrivere un programma che richiede all'utente d’inserire una lista di numeri interi e ne stampa il valore massimo. \n",
    "# In caso d’inserimento di un valore non valido, il programma deve gestire l'eccezione e stampare un messaggio di errore.\n",
    "\n",
    "# Initialize the list\n",
    "lista = []\n",
    "\n",
    "for i in range(5):\n",
    "    try:\n",
    "        x = int(input(\"Inserisci un numero intero: \"))\n",
    "        lista.append(x)\n",
    "    except ValueError:\n",
    "        print(\"Errore: devi inserire un numero intero valido!\")\n",
    "        break\n",
    "    except Exception as e:\n",
    "        print(f\"Errore: {e}\")\n",
    "        continue\n",
    "\n",
    "print(\"La lista è:\", lista)\n",
    "        \n"
   ]
  },
  {
   "cell_type": "code",
   "execution_count": 14,
   "id": "3ba0da76",
   "metadata": {},
   "outputs": [
    {
     "name": "stdout",
     "output_type": "stream",
     "text": [
      "0.25\n",
      "Errore: divisione per zero!\n",
      "None\n"
     ]
    }
   ],
   "source": [
    "# 16) Scrivere una funzione che calcoli il reciproco di un numero e che gestisca l'eccezione di divisione per zero usando ZeroDivisionError.\n",
    "\n",
    "def reciproco(x):\n",
    "\n",
    "    try:\n",
    "        return 1 / x\n",
    "    except ZeroDivisionError:\n",
    "        print(\"Errore: divisione per zero!\")\n",
    "        return None\n",
    "\n",
    "# Esempi di utilizzo\n",
    "print(reciproco(4))   # Output: 0.25\n",
    "print(reciproco(0))   # Output: Errore: divisione per zero! \\n None\n"
   ]
  },
  {
   "cell_type": "code",
   "execution_count": 13,
   "id": "8e7a9d65",
   "metadata": {},
   "outputs": [
    {
     "name": "stdout",
     "output_type": "stream",
     "text": [
      "Riga 1\n",
      "Riga 2\n",
      "Riga 3\n",
      "Riga 4\n",
      "Riga 5\n",
      "Riga 1\n",
      "Riga 2\n",
      "Riga 3\n",
      "Riga 4\n",
      "Riga 5\n",
      "\n"
     ]
    }
   ],
   "source": [
    "# 17) Scrivere un programma che crea un nuovo file di testo e che scriva una serie di righe in esso.\n",
    "\n",
    "try:\n",
    "    with open(\"demofile2\", \"a\") as f:\n",
    "        f.write(\"Riga 1\\n\")\n",
    "        f.write(\"Riga 2\\n\")\n",
    "        f.write(\"Riga 3\\n\")\n",
    "        f.write(\"Riga 4\\n\")\n",
    "        f.write(\"Riga 5\\n\")\n",
    "\n",
    "    with open(\"demofile2\", \"r\") as f:\n",
    "        print(f.read())\n",
    "except IOError:\n",
    "    print(\"Errore: impossibile aprire il file!\")"
   ]
  },
  {
   "cell_type": "code",
   "execution_count": 16,
   "id": "a1051147",
   "metadata": {},
   "outputs": [
    {
     "name": "stdout",
     "output_type": "stream",
     "text": [
      "Riga 1\n",
      "Riga 2\n",
      "Riga 3\n",
      "Riga 4\n",
      "Riga 5\n",
      "Riga 1\n",
      "Riga 2\n",
      "Riga 3\n",
      "Riga 4\n",
      "Riga 5\n",
      "\n"
     ]
    }
   ],
   "source": [
    "# 18) Scrivere un programma che apre un file di testo esistente, legga il suo contenuto e ne stampi ogni riga.\n",
    "\n",
    "\n",
    "with open(\"demofile2\", \"r\") as f:\n",
    "        print(f.read())"
   ]
  },
  {
   "cell_type": "code",
   "execution_count": 17,
   "id": "6e5a4fea",
   "metadata": {},
   "outputs": [
    {
     "name": "stdout",
     "output_type": "stream",
     "text": [
      "Contenuto copiato con successo da demofile2 a demofile3\n",
      "Contenuto di demofile3:\n",
      "Riga 1\n",
      "Riga 2\n",
      "Riga 3\n",
      "Riga 4\n",
      "Riga 5\n",
      "Riga 1\n",
      "Riga 2\n",
      "Riga 3\n",
      "Riga 4\n",
      "Riga 5\n",
      "\n"
     ]
    }
   ],
   "source": [
    "# 19) Scrivere un programma che copia il contenuto di un file di testo in un altro file.\n",
    "\n",
    "with open(\"demofile2\", \"r\") as f:\n",
    "    content = f.read()\n",
    "    with open(\"demofile3\", \"w\") as f2:\n",
    "        f2.write(content)   \n",
    "\n",
    "print(\"Contenuto copiato con successo da demofile2 a demofile3\")\n",
    "print(\"Contenuto di demofile3:\")\n",
    "with open(\"demofile3\", \"r\") as f2:\n",
    "    print(f2.read())"
   ]
  },
  {
   "cell_type": "code",
   "execution_count": 18,
   "id": "7c064487",
   "metadata": {},
   "outputs": [
    {
     "name": "stdout",
     "output_type": "stream",
     "text": [
      "Hai 21 anni, 11 mesi e 13 giorni.\n",
      "Sono nato/a di Saturday.\n"
     ]
    }
   ],
   "source": [
    "# 20) Scrivere un programma che chiede all'utente d’inserire la propria data di nascita (nel formato GG‑MM‑ANNO) e calcoli l'età in giorni, \n",
    "# mesi e anni. Il programma deve anche calcolare il giorno della settimana in cui l'utente è nato.\n",
    "\n",
    "from datetime import datetime, date\n",
    "from dateutil.relativedelta import relativedelta\n",
    "\n",
    "def calcola_eta_e_giorno(dob_str: str):\n",
    "\n",
    "    # Parsing della stringa in oggetto date\n",
    "    dob = datetime.strptime(dob_str, \"%d-%m-%Y\").date()\n",
    "    \n",
    "    # Data odierna\n",
    "    oggi = date.today()\n",
    "    \n",
    "    # Differenza in anni, mesi, giorni\n",
    "    diff = relativedelta(oggi, dob)\n",
    "    anni, mesi, giorni = diff.years, diff.months, diff.days\n",
    "    \n",
    "    # Giorno della settimana di nascita\n",
    "    giorno_sett = dob.strftime(\"%A\")\n",
    "    \n",
    "    return anni, mesi, giorni, giorno_sett\n",
    "\n",
    "if __name__ == \"__main__\":\n",
    "    data_input = input(\"Inserisci la data di nascita (GG-MM-AAAA): \")\n",
    "    eta_anni, eta_mesi, eta_giorni, giorno_nato = calcola_eta_e_giorno(data_input)\n",
    "    \n",
    "    print(f\"Hai {eta_anni} anni, {eta_mesi} mesi e {eta_giorni} giorni.\")\n",
    "    print(f\"Sono nato/a di {giorno_nato}.\")\n"
   ]
  },
  {
   "cell_type": "code",
   "execution_count": null,
   "id": "6fba0b9d",
   "metadata": {},
   "outputs": [],
   "source": [
    "# 21) Qual è la funzione utilizzata per aprire un file in Python?\n",
    "# La funzione utilizzata per aprire un file in Python è `open()`.\n",
    "\n",
    "# 22) Qual è la differenza tra \"r\" e \"w\" nella funzione open() in Python?\n",
    "# \"r\" apre un file in modalità lettura (read), mentre \"w\" apre un file in modalità scrittura (write).\n",
    "\n",
    "# 23) Qual è la funzione utilizzata per scrivere su un file in Python?\n",
    "# La funzione utilizzata per scrivere su un file in Python è `write()`.\n",
    "\n",
    "# 24) Qual è la funzione utilizzata per leggere il contenuto di un file in Python?\n",
    "# La funzione utilizzata per leggere il contenuto di un file in Python è `read()`.\n",
    "\n",
    "# 25) Qual è la funzione utilizzata per chiudere un file in Python?\n",
    "# La funzione utilizzata per chiudere un file in Python è `close()`.\n",
    "\n",
    "# 26) Qual è la differenza tra \"append\" e \"write\" nella funzione open() in Python?\n",
    "# \"append\" apre un file in modalità aggiunta (append), permettendo di aggiungere contenuto alla\n",
    "#  fine del file senza sovrascrivere il contenuto esistente, mentre \"write\" apre un file in modalità scrittura (write), sovrascrivendo il contenuto esistente.\n",
    "\n",
    "# 27) Qual è la funzione utilizzata per leggere una riga alla volta da un file in Python?\n",
    "# La funzione utilizzata per leggere una riga alla volta da un file in Python è `readline()`.\n",
    "\n",
    "# 28) Qual è la funzione utilizzata per leggere tutte le righe di un file in Python?\n",
    "# La funzione utilizzata per leggere tutte le righe di un file in Python è `readlines()`.\n",
    "\n",
    "# 29) Qual è la funzione utilizzata per cercare una stringa in un file in Python?\n",
    "# La funzione utilizzata per cercare una stringa in un file in Python è `find()` o `in`.\n",
    "\n",
    "# 30) Qual è la funzione utilizzata per eliminare un file in Python?\n",
    "# La funzione utilizzata per eliminare un file in Python è `remove()` o `unlink()`."
   ]
  }
 ],
 "metadata": {
  "kernelspec": {
   "display_name": "Python 3",
   "language": "python",
   "name": "python3"
  },
  "language_info": {
   "codemirror_mode": {
    "name": "ipython",
    "version": 3
   },
   "file_extension": ".py",
   "mimetype": "text/x-python",
   "name": "python",
   "nbconvert_exporter": "python",
   "pygments_lexer": "ipython3",
   "version": "3.11.9"
  }
 },
 "nbformat": 4,
 "nbformat_minor": 5
}
