{
 "cells": [
  {
   "cell_type": "markdown",
   "id": "41bd091c",
   "metadata": {},
   "source": [
    "# 1) Scrivere una funzione che prenda come input il raggio di un cerchio e restituisca l'area del cerchio. Utilizzare il valore di π = 3.14.\n",
    "# 2) Scrivere una funzione che prenda come input una lista di numeri e restituisca la somma dei suoi elementi.\n",
    "# 3) Scrivere una funzione che prenda due argomenti e restituisca la loro somma.\n",
    "# 4) Definire una funzione che prenda un numero come parametro e restituisca il suo quadrato.\n",
    "# 5) Scrivere una funzione che prenda in input una stringa e ne restituisca la lunghezza.\n",
    "# 6) Scrivere una funzione che prenda in input una lista di parole e ne restituisca una lista di queste in ordine alfabetico.\n",
    "# 7) Scrivere una funzione che prenda in input una lista di numeri e ne restituisca una di numeri pari.\n",
    "# 8) Scrivere una funzione lambda che prenda in input un intero e ne restituisca il suo doppio.\n",
    "# 9) Scrivere una funzione lambda che prenda in input una stringa e restituisca la stessa in maiuscolo.\n",
    "# 10) Scrivere una funzione lambda che prenda in input due numeri e restituisca il loro prodotto.\n",
    "# 11) Scrivere una funzione che calcoli il fattoriale di un numero intero e applica un decoratore per controllare che il numero in input sia maggiore o uguale a zero.\n",
    "# 12) Scrivere una funzione che restituisca la somma di due numeri e applichi un decoratore per convertire i numeri in float.\n",
    "# 13) Scrivere una funzione che restituisca una stringa e applichi un decoratore per aggiungere un prefisso alla stringa.\n",
    "# 14) Scrivere una funzione che applichi un callback ad ogni elemento di una lista.\n",
    "# 15) Scrivere una funzione che sommi gli elementi di una lista e applichi una funzione di callback al risultato.\n",
    "# 16) Scrivere una funzione che applichi un callback ad ogni elemento di una lista e restituisca solo gli elementi per cui il callback restituisce True.\n",
    "# 17) Scrivere un programma che effettui richieste HTTP a più URL in contemporanea, utilizzando asyncio.gather().\n",
    "# 18) Scrivere un programma che effettui la lettura di file in parallelo, sempre utilizzando asyncio.gather().\n",
    "# 19) Scrivere un programma che effettui una richiesta HTTP e che attenda un tempo massimo di cinque secondi per ricevere la risposta utilizzando asyncio.wait_for().\n",
    "# 20) Scrivere un programma che effettui l'elaborazione di una lista di elementi in parallelo, utilizzando asyncio.gather().\n",
    "# 21) Scrivere un programma che effettui la generazione di numeri casuali in parallelo, utilizzando asyncio.create_task().\n",
    "# 22) Scrivere un programma che effettui la lettura di dati da una coda di messaggi in modo asincrono utilizzando asyncio.Queue().\n",
    "# 23) Qual è il valore di ritorno predefinito di una funzione?\n",
    "# 24) Qual è la differenza tra una funzione e un metodo?\n",
    "# 25) Qual è il significato di un decoratore in Python?\n",
    "# 26) Cosa fa il decoratore @staticmethod?\n",
    "# 27) Qual è il principale vantaggio di utilizzare asyncio?\n",
    "# 28) Come si definisce una funzione asincrona?\n",
    "# 29) Quale metodo viene utilizzato per eseguire una coroutine in asyncio?\n",
    "# 30) Quale è la differenza principale tra le funzioni await e yield from in asyncio?\n"
   ]
  },
  {
   "cell_type": "code",
   "execution_count": 9,
   "id": "2047fca9",
   "metadata": {},
   "outputs": [
    {
     "data": {
      "text/plain": [
       "78.5"
      ]
     },
     "execution_count": 9,
     "metadata": {},
     "output_type": "execute_result"
    }
   ],
   "source": [
    "# 1) Scrivere una funzione che prenda come input il raggio di un cerchio e \n",
    "# restituisca l'area del cerchio. Utilizzare il valore di π = 3.14.\n",
    "\n",
    "r = 5\n",
    "PI = 3.14\n",
    "\n",
    "def areaCerchio(r):\n",
    "    a = PI * r**2\n",
    "    return a\n",
    "\n",
    "areaCerchio(r)"
   ]
  },
  {
   "cell_type": "code",
   "execution_count": 11,
   "id": "decc4283",
   "metadata": {},
   "outputs": [
    {
     "data": {
      "text/plain": [
       "15"
      ]
     },
     "execution_count": 11,
     "metadata": {},
     "output_type": "execute_result"
    }
   ],
   "source": [
    "# 2) Scrivere una funzione che prenda come input una lista di numeri e restituisca la somma dei suoi elementi.\n",
    "\n",
    "lista = [1,2,3,4,5]\n",
    "\n",
    "def sommaLista(lista):\n",
    "    somma = 0  # Initialize the sum to 0\n",
    "    for numero in lista:\n",
    "        somma += numero  # Add each number to the sum\n",
    "    return somma  # Return the total sum\n",
    "\n",
    "sommaLista(lista)"
   ]
  },
  {
   "cell_type": "code",
   "execution_count": 14,
   "id": "ad41cf57",
   "metadata": {},
   "outputs": [
    {
     "data": {
      "text/plain": [
       "15"
      ]
     },
     "execution_count": 14,
     "metadata": {},
     "output_type": "execute_result"
    }
   ],
   "source": [
    "# 3) Scrivere una funzione che prenda due argomenti e restituisca la loro somma.\n",
    "\n",
    "a = 5\n",
    "b = 10\n",
    "\n",
    "def sommaArgomenti(a, b):\n",
    "    somma = a + b\n",
    "    return somma\n",
    "\n",
    "sommaArgomenti(a,b)"
   ]
  },
  {
   "cell_type": "code",
   "execution_count": 16,
   "id": "731ae296",
   "metadata": {},
   "outputs": [
    {
     "data": {
      "text/plain": [
       "4"
      ]
     },
     "execution_count": 16,
     "metadata": {},
     "output_type": "execute_result"
    }
   ],
   "source": [
    "# 4) Definire una funzione che prenda un numero come parametro e restituisca il suo quadrato.\n",
    "\n",
    "a = 2\n",
    "\n",
    "\n",
    "def quadratoArgomenti(a):\n",
    "    quadrato = a**2\n",
    "    return quadrato\n",
    "\n",
    "quadratoArgomenti(a)"
   ]
  },
  {
   "cell_type": "code",
   "execution_count": 17,
   "id": "947659ef",
   "metadata": {},
   "outputs": [
    {
     "data": {
      "text/plain": [
       "6"
      ]
     },
     "execution_count": 17,
     "metadata": {},
     "output_type": "execute_result"
    }
   ],
   "source": [
    "# 5) Scrivere una funzione che prenda in input una stringa e ne restituisca la lunghezza.\n",
    "\n",
    "a = \"Parola\"\n",
    "\n",
    "def lunghezzaParola(parola):\n",
    "    lunghezza = len(parola)\n",
    "    return lunghezza\n",
    "\n",
    "lunghezzaParola(a)"
   ]
  },
  {
   "cell_type": "code",
   "execution_count": null,
   "id": "1c9b7905",
   "metadata": {},
   "outputs": [
    {
     "data": {
      "text/plain": [
       "['Albero', 'Bicicletta', 'Ciclone', 'Demone', 'Espresso']"
      ]
     },
     "execution_count": 20,
     "metadata": {},
     "output_type": "execute_result"
    }
   ],
   "source": [
    "# 6) Scrivere una funzione che prenda in input una lista di parole e ne restituisca una lista di queste in ordine alfabetico.\n",
    "\n",
    "a = [\"Ciclone\", \"Demone\",\"Bicicletta\", \"Espresso\", \"Albero\"]\n",
    "\n",
    "def ordineAlfabetico(parole):\n",
    "    ordinato = sorted(parole)\n",
    "    return ordinato\n",
    "\n",
    "ordineAlfabetico(a)"
   ]
  },
  {
   "cell_type": "code",
   "execution_count": 23,
   "id": "adcb2e91",
   "metadata": {},
   "outputs": [
    {
     "data": {
      "text/plain": [
       "[2, 4, 6, 8, 10]"
      ]
     },
     "execution_count": 23,
     "metadata": {},
     "output_type": "execute_result"
    }
   ],
   "source": [
    "# 7) Scrivere una funzione che prenda in input una lista di numeri e ne restituisca una di numeri pari.\n",
    "\n",
    "a = [1, 2, 3, 4, 5, 6, 7, 8, 9, 10]\n",
    "\n",
    "def separaPari(numeri):\n",
    "    pari = []\n",
    "    for numero in numeri:\n",
    "        if numero % 2 == 0:\n",
    "            pari.append(numero)\n",
    "    return pari\n",
    "\n",
    "separaPari(a)"
   ]
  },
  {
   "cell_type": "code",
   "execution_count": 27,
   "id": "e247047a",
   "metadata": {},
   "outputs": [
    {
     "name": "stdout",
     "output_type": "stream",
     "text": [
      "10\n"
     ]
    }
   ],
   "source": [
    "# 8) Scrivere una funzione lambda che prenda in input un intero e ne restituisca il suo doppio.\n",
    "\n",
    "doppio = lambda x: x * 2\n",
    "print(doppio(5))  # Output: 10\n"
   ]
  },
  {
   "cell_type": "code",
   "execution_count": null,
   "id": "9c0f8b72",
   "metadata": {},
   "outputs": [
    {
     "name": "stdout",
     "output_type": "stream",
     "text": [
      "CIAO\n"
     ]
    }
   ],
   "source": [
    "# 9) Scrivere una funzione lambda che prenda in input una stringa e restituisca la stessa in maiuscolo.\n",
    "\n",
    "maiuscolo = lambda minuscolo: minuscolo.upper()\n",
    "\n",
    "\n",
    "print(maiuscolo(\"ciao\"))\n"
   ]
  },
  {
   "cell_type": "code",
   "execution_count": 33,
   "id": "931a03d9",
   "metadata": {},
   "outputs": [
    {
     "name": "stdout",
     "output_type": "stream",
     "text": [
      "7\n"
     ]
    }
   ],
   "source": [
    "# 10) Scrivere una funzione lambda che prenda in input due numeri e restituisca il loro prodotto.\n",
    "\n",
    "prodotto = lambda a, b: a+b\n",
    "print(prodotto(5, 2))"
   ]
  },
  {
   "cell_type": "code",
   "execution_count": 2,
   "id": "954f9600",
   "metadata": {},
   "outputs": [
    {
     "name": "stdout",
     "output_type": "stream",
     "text": [
      "120\n",
      "1\n"
     ]
    }
   ],
   "source": [
    "# 11) Scrivere una funzione che calcoli il fattoriale \n",
    "# di un numero intero e applica un decoratore per controllare che il numero in input sia maggiore o uguale a zero.\n",
    "\n",
    "def controlla_input(funz):\n",
    "    def wrapper(n):\n",
    "        if n < 0:\n",
    "            raise ValueError(\"Il numero deve essere maggiore o uguale a zero.\")\n",
    "        return funz(n)\n",
    "    return wrapper\n",
    "\n",
    "@controlla_input\n",
    "def fattoriale(n):\n",
    "    if n == 0 or n == 1:\n",
    "        return 1\n",
    "    else:\n",
    "        return n * fattoriale(n - 1)\n",
    "\n",
    "print(fattoriale(5)) \n",
    "print(fattoriale(0))  \n",
    "# print(fattoriale(-3))  # Questo solleverebbe un'eccezione ValueError\n"
   ]
  },
  {
   "cell_type": "code",
   "execution_count": 7,
   "id": "76b76e57",
   "metadata": {},
   "outputs": [
    {
     "name": "stdout",
     "output_type": "stream",
     "text": [
      "7.0\n"
     ]
    }
   ],
   "source": [
    "# 12) Scrivere una funzione che restituisca la somma di due numeri e applichi un decoratore per convertire i numeri in float.\n",
    "\n",
    "def my_decorator(func):\n",
    "    def wrapper(*args, **kwargs):\n",
    "        # --- Codice da eseguire PRIMA della funzione ---\n",
    "        \n",
    "        # Convert arguments to float\n",
    "        x = float(args[0])\n",
    "        y = float(args[1])\n",
    "\n",
    "        # Execute the original function\n",
    "        result = func(x, y)\n",
    "\n",
    "        # --- Codice da eseguire DOPO la funzione ---\n",
    "        return result\n",
    "    return wrapper\n",
    "\n",
    "# Uso:\n",
    "@my_decorator\n",
    "def my_function(a, b):\n",
    "    pass  # Corpo della funzione\n",
    "\n",
    "\n",
    "    return a + b  # Return the sum of the two numbers\n",
    "\n",
    "print(my_function(5,2))\n",
    "\n"
   ]
  },
  {
   "cell_type": "code",
   "execution_count": 10,
   "id": "86875d62",
   "metadata": {},
   "outputs": [
    {
     "name": "stdout",
     "output_type": "stream",
     "text": [
      "Buongiorno Marco\n"
     ]
    }
   ],
   "source": [
    "# 13) Scrivere una funzione che restituisca una stringa e applichi un decoratore per aggiungere un prefisso alla stringa.\n",
    "\n",
    "def my_decorator(func):\n",
    "    def wrapper(*args, **kwargs):\n",
    "        # Execute the original function\n",
    "        result = func(*args, **kwargs)\n",
    "\n",
    "        # Add prefix to the returned string\n",
    "        prefixed_result = \"Buongiorno \" + result\n",
    "\n",
    "        return prefixed_result\n",
    "    return wrapper\n",
    "\n",
    "@my_decorator\n",
    "def my_function(nome):\n",
    "    return nome\n",
    "\n",
    "print(my_function(\"Marco\"))\n"
   ]
  },
  {
   "cell_type": "code",
   "execution_count": 19,
   "id": "57c8e163",
   "metadata": {},
   "outputs": [
    {
     "name": "stdout",
     "output_type": "stream",
     "text": [
      "[2, 4, 6, 8, 10]\n"
     ]
    }
   ],
   "source": [
    "# 14) Scrivere una funzione che applichi un callback ad ogni elemento di una lista.\n",
    "\n",
    "def applica_callback_numeri(numeri, callback):\n",
    "\n",
    "    risultato = []\n",
    "    for x in numeri:\n",
    "        risultato.append(callback(x))\n",
    "    return risultato\n",
    "\n",
    "def raddoppia(x):\n",
    "    return x * 2\n",
    "\n",
    "arr = [1, 2, 3, 4, 5]\n",
    "arr_raddoppiato = applica_callback_numeri(arr, raddoppia)\n",
    "print(arr_raddoppiato)\n"
   ]
  },
  {
   "cell_type": "code",
   "execution_count": 18,
   "id": "5f3613c4",
   "metadata": {},
   "outputs": [
    {
     "name": "stdout",
     "output_type": "stream",
     "text": [
      "30\n"
     ]
    }
   ],
   "source": [
    "# 15) Scrivere una funzione che sommi gli elementi di una lista e applichi una funzione di callback al risultato.\n",
    "\n",
    "def somma_e_callback(lista, callback):\n",
    "    somma = sum(lista)  \n",
    "    return callback(somma)  \n",
    "\n",
    "def raddoppia(x):\n",
    "    return x * 2  \n",
    "\n",
    "\n",
    "arr = [1, 2, 3, 4, 5]\n",
    "result = somma_e_callback(arr, raddoppia)\n",
    "print(result)  \n"
   ]
  },
  {
   "cell_type": "code",
   "execution_count": 21,
   "id": "a31a601d",
   "metadata": {},
   "outputs": [
    {
     "name": "stdout",
     "output_type": "stream",
     "text": [
      "[2, 4]\n"
     ]
    }
   ],
   "source": [
    "# 16) Scrivere una funzione che applichi un callback ad ogni elemento di una lista e restituisca solo gli elementi per cui il callback restituisce True.\n",
    "\n",
    "def filtra_elementi(lista, callback):\n",
    "    risultato = [elemento for elemento in lista if callback(elemento)]\n",
    "    return risultato\n",
    "\n",
    "def is_pari(x):\n",
    "    return x % 2 == 0\n",
    "\n",
    "filtered_result = filtra_elementi(arr, is_pari)\n",
    "print(filtered_result)  \n"
   ]
  },
  {
   "cell_type": "code",
   "execution_count": 1,
   "id": "ea7a3a8d",
   "metadata": {},
   "outputs": [
    {
     "name": "stdout",
     "output_type": "stream",
     "text": [
      "elabora richiesta\n",
      "elabora richiesta\n",
      "elabora richiesta\n",
      "http://www.google.com\n",
      "http://www.facebook.com\n",
      "http://www.agmsolutions.net\n"
     ]
    }
   ],
   "source": [
    "# 17) Scrivere un programma che effettui richieste HTTP a più URL in contemporanea, utilizzando asyncio.gather().\n",
    "\n",
    "# python ha coroutine: generatore (yield), native - asyncio\n",
    "import asyncio\n",
    " \n",
    "async def elabora_url(url):\n",
    "    print(\"elabora richiesta\")\n",
    "    await asyncio.sleep(1)\n",
    "    print(f\"{url}\")\n",
    " \n",
    "async def richieste():\n",
    "    urls = ['http://www.google.com', 'http://www.facebook.com', 'http://www.agmsolutions.net']\n",
    "    # tasks = []\n",
    "    # for url in urls:\n",
    "    #     task = await asyncio.create_task(elabora_url(url))\n",
    "    #     tasks.append(task)\n",
    "    tasks = [asyncio.create_task(elabora_url(url)) for url in urls]\n",
    "   \n",
    "    await asyncio.gather(*tasks) # tasks, (task1, task2, task3 ...)\n",
    " \n",
    "await richieste()"
   ]
  },
  {
   "cell_type": "code",
   "execution_count": null,
   "id": "a4251571",
   "metadata": {},
   "outputs": [
    {
     "name": "stdout",
     "output_type": "stream",
     "text": [
      "Elabora File\n",
      "Elabora File\n",
      "File aperto\n",
      "Prova 1\n",
      "Prova 12\n",
      "File aperto\n",
      "Prova 2\n"
     ]
    }
   ],
   "source": [
    "# 18) Scrivere un programma che effettui la lettura di file in parallelo, sempre utilizzando asyncio.gather().\n",
    "\n",
    "async def elabora_file(path):\n",
    "    print (\"Elabora File\")\n",
    "    with open(path, \"r\") as f:\n",
    "        await asyncio.sleep(2)\n",
    "        print(\"File aperto\")\n",
    "        print(f.read())\n",
    "    \n",
    "\n",
    "async def richiesto():\n",
    "    paths = [\"C:\\\\Users\\\\marco.pirrotta\\\\OneDrive - AGM Solutions\\\\Desktop\\\\Progetti\\\\Progetti Capitolo 2\\\\Capitolo 2.5\\\\file1.txt\", \"C:\\\\Users\\\\marco.pirrotta\\\\OneDrive - AGM Solutions\\\\Desktop\\\\Progetti\\\\Progetti Capitolo 2\\\\Capitolo 2.5\\\\file2.txt\"]\n",
    "    tasks = [asyncio.create_task(elabora_file(path)) for path in paths]\n",
    "    await asyncio.gather(*tasks)\n",
    "\n",
    "await richiesto()"
   ]
  },
  {
   "cell_type": "code",
   "execution_count": 22,
   "id": "c84a22b7",
   "metadata": {},
   "outputs": [
    {
     "name": "stdout",
     "output_type": "stream",
     "text": [
      "elabora richiesta\n",
      "Exception: timeout\n"
     ]
    }
   ],
   "source": [
    "# 19) Scrivere un programma che effettui una richiesta HTTP e che attenda un tempo massimo di cinque secondi per \n",
    "# ricevere la risposta utilizzando asyncio.wait_for().\n",
    "\n",
    "\n",
    "# python ha coroutine: generatore (yield), native - asyncio\n",
    "import asyncio\n",
    " \n",
    "async def elabora_url(url):\n",
    "    print(\"elabora richiesta\")\n",
    "    try: \n",
    "        await asyncio.sleep(7)\n",
    "        print(f\"{url}\")\n",
    "    except: print (\"Exception: timeout\")\n",
    "\n",
    "\n",
    " \n",
    "async def richieste():\n",
    "    urls = ['http://www.google.com']\n",
    "    await asyncio.wait_for(elabora_url(urls), 6)\n",
    "   \n",
    " \n",
    "await richieste()\n",
    "\n"
   ]
  },
  {
   "cell_type": "code",
   "execution_count": 26,
   "id": "18bf89af",
   "metadata": {},
   "outputs": [
    {
     "name": "stdout",
     "output_type": "stream",
     "text": [
      "elabora richiesta\n",
      "elabora richiesta\n",
      "elabora richiesta\n",
      "elabora richiesta\n",
      "25\n",
      "225\n",
      "100\n",
      "400\n"
     ]
    }
   ],
   "source": [
    "# 20) Scrivere un programma che effettui l'elaborazione di una lista di elementi in parallelo, utilizzando asyncio.gather().\n",
    "\n",
    "import asyncio\n",
    " \n",
    "async def elabora_array_moltiplica(numero):\n",
    "    print(\"elabora richiesta\")\n",
    "    await asyncio.sleep(1)\n",
    "    numero = numero**2\n",
    "    print(f\"{numero}\")\n",
    " \n",
    "async def richieste():\n",
    "    numeri = [5, 10, 15, 20]\n",
    "\n",
    "    tasks = [asyncio.create_task(elabora_array_moltiplica(numero )) for numero in numeri]\n",
    "   \n",
    "    await asyncio.gather(*tasks) # tasks, (task1, task2, task3 ...)\n",
    " \n",
    "await richieste()"
   ]
  },
  {
   "cell_type": "markdown",
   "id": "6eefdaf8",
   "metadata": {},
   "source": [
    "# 23) Valore di ritorno predefinito:\n",
    "#     None\n",
    "# 24) Funzione vs Metodo:\n",
    "#     Funzione standalone; metodo è legato a un oggetto/class\n",
    "# 25) Decoratore:\n",
    "#     Funzione che riceve e restituisce un’altra funzione modificata\n",
    "# 26) @staticmethod:\n",
    "#     Metodo senza self/cls, chiamabile su classe o istanza\n",
    "# 27) Vantaggio asyncio:\n",
    "#     Concorrenza I/O-bound senza thread aggiuntivi\n",
    "# 28) Definizione async:\n",
    "#     async def nome(...):\n",
    "# 29) Esecuzione coroutine:\n",
    "#     asyncio.run(coroutine())\n",
    "# 30) await vs yield from:\n",
    "#     await per coroutine native; yield from per generator-based  \n"
   ]
  }
 ],
 "metadata": {
  "kernelspec": {
   "display_name": "Python 3",
   "language": "python",
   "name": "python3"
  },
  "language_info": {
   "codemirror_mode": {
    "name": "ipython",
    "version": 3
   },
   "file_extension": ".py",
   "mimetype": "text/x-python",
   "name": "python",
   "nbconvert_exporter": "python",
   "pygments_lexer": "ipython3",
   "version": "3.11.9"
  }
 },
 "nbformat": 4,
 "nbformat_minor": 5
}
